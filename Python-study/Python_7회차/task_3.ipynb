{
 "cells": [
  {
   "cell_type": "markdown",
   "metadata": {},
   "source": [
    "사용자로부터 여러 개의 숫자를 입력받아 리스트에 저장한 후, 사용자가 'done'이라고 입력할 때까지 계속 입력받으세요. \n",
    "\n",
    "- 입력 중 숫자가 아닌 값이 입력되면 ValueError를 처리\n",
    "- 숫자 외 값이 입력된 경우 어떤 값이 잘못 입력되었는지 사용자에게 알려주는 문구 출력<br>\n",
    "  (예: f\"잘못된 값: {변수}. 숫자를 입력해주세요.\")\n",
    "\n"
   ]
  },
  {
   "cell_type": "code",
   "execution_count": 2,
   "metadata": {},
   "outputs": [
    {
     "name": "stdout",
     "output_type": "stream",
     "text": [
      "잘못된 값: s. 숫자를 입력해주세요.\n",
      "입력한 숫자 목록: [1.0, 2.0, 3.0]\n"
     ]
    }
   ],
   "source": [
    "def collect_numbers():\n",
    "    numbers = []  # 숫자를 저장할 빈 리스트\n",
    "    while True:\n",
    "        user_input = input(\"숫자를 입력하세요 (완료하려면 'done' 입력): \")\n",
    "        \n",
    "        if user_input.lower() == 'done':  # 'done' 입력 시 종료\n",
    "            break\n",
    "            \n",
    "        try:\n",
    "            number = float(user_input)  # 숫자로 변환\n",
    "            numbers.append(number)  # 리스트에 추가\n",
    "        except ValueError:\n",
    "            print(f\"잘못된 값: {user_input}. 숫자를 입력해주세요.\")\n",
    "\n",
    "    print(\"입력한 숫자 목록:\", numbers)\n",
    "\n",
    "collect_numbers()"
   ]
  }
 ],
 "metadata": {
  "kernelspec": {
   "display_name": "Python 3",
   "language": "python",
   "name": "python3"
  },
  "language_info": {
   "codemirror_mode": {
    "name": "ipython",
    "version": 3
   },
   "file_extension": ".py",
   "mimetype": "text/x-python",
   "name": "python",
   "nbconvert_exporter": "python",
   "pygments_lexer": "ipython3",
   "version": "3.9.6"
  }
 },
 "nbformat": 4,
 "nbformat_minor": 2
}
