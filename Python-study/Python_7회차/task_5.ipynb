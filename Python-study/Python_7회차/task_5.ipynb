{
 "cells": [
  {
   "cell_type": "markdown",
   "metadata": {},
   "source": [
    "datetime 모듈을 사용하여 현재 날짜와 시간을 출력하는 프로그램을 작성하세요. \n",
    "\n",
    "또한, 사용자로부터 태어난 년도를 입력받아 현재 나이를 계산하여 출력하세요."
   ]
  },
  {
   "cell_type": "code",
   "execution_count": 1,
   "metadata": {},
   "outputs": [
    {
     "name": "stdout",
     "output_type": "stream",
     "text": [
      "현재 날짜와 시간: 2024-10-22 13:39:31\n",
      "현재 나이: 21세\n"
     ]
    }
   ],
   "source": [
    "from datetime import datetime\n",
    "\n",
    "def main():\n",
    "    # 현재 날짜와 시간 출력\n",
    "    now = datetime.now()\n",
    "    print(\"현재 날짜와 시간:\", now.strftime(\"%Y-%m-%d %H:%M:%S\"))\n",
    "    \n",
    "    # 사용자로부터 태어난 년도 입력받기\n",
    "    birth_year = input(\"태어난 년도를 입력하세요: \")\n",
    "    \n",
    "    try:\n",
    "        # 입력받은 년도를 정수로 변환\n",
    "        birth_year = int(birth_year)\n",
    "        \n",
    "        # 현재 년도 계산\n",
    "        current_year = now.year\n",
    "        age = current_year - birth_year\n",
    "        \n",
    "        print(f\"현재 나이: {age}세\")\n",
    "    \n",
    "    except ValueError:\n",
    "        print(\"잘못된 입력입니다. 숫자를 입력해주세요.\")\n",
    "\n",
    "# 프로그램 실행\n",
    "main()\n"
   ]
  }
 ],
 "metadata": {
  "kernelspec": {
   "display_name": "Python 3",
   "language": "python",
   "name": "python3"
  },
  "language_info": {
   "codemirror_mode": {
    "name": "ipython",
    "version": 3
   },
   "file_extension": ".py",
   "mimetype": "text/x-python",
   "name": "python",
   "nbconvert_exporter": "python",
   "pygments_lexer": "ipython3",
   "version": "3.9.6"
  }
 },
 "nbformat": 4,
 "nbformat_minor": 2
}
