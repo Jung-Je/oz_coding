{
 "cells": [
  {
   "cell_type": "markdown",
   "metadata": {},
   "source": [
    "1. 각 붕어빵 가격을 딕셔너리로 관리합니다.\n",
    "2. 판매된 붕어빵의 종류와 개수를 딕셔너리로 관리 합니다.\n",
    "3. 총 매출을 계산하여 출력합니다."
   ]
  },
  {
   "cell_type": "code",
   "execution_count": 4,
   "metadata": {},
   "outputs": [
    {
     "name": "stdout",
     "output_type": "stream",
     "text": [
      "팥붕어빵의 재고가 30개 추가되었습니다.\n",
      "슈크림붕어빵의 재고가 30개 추가되었습니다.\n",
      "초코붕어빵의 재고가 30개 추가되었습니다.\n",
      "판매된 붕어빵 목록:\n",
      "총 매출: 0원\n",
      "프로그램이 종료되었습니다.\n"
     ]
    }
   ],
   "source": [
    "stock = {\n",
    "    \"팥붕어빵\": 10,\n",
    "    \"슈크림붕어빵\": 8,\n",
    "    \"초코붕어빵\": 5\n",
    "}\n",
    "\n",
    "price = {\n",
    "    \"팥붕어빵\": 1000,\n",
    "    \"슈크림붕어빵\": 1200,\n",
    "    \"초코붕어빵\": 1500\n",
    "}\n",
    "\n",
    "sales = {\n",
    "    \"팥붕어빵\": 0,\n",
    "    \"슈크림붕어빵\": 0,\n",
    "    \"초코붕어빵\": 0,\n",
    "}\n",
    "\n",
    "# 판매 기록을 저장할 딕셔너리\n",
    "sold_items = {}\n",
    "\n",
    "# 총 매출 초기화\n",
    "total_revenue = 0\n",
    "\n",
    "while True:\n",
    "    mode = input(\"원하는 모드를 선택해주세요(주문, 관리자, 종료): \")\n",
    "    if mode == \"종료\":\n",
    "        break\n",
    "\n",
    "    if mode == \"주문\":\n",
    "        while True:\n",
    "            bread_type = input(\"붕어빵 종류를 입력해주세요 (팥붕어빵, 슈크림붕어빵, 초코붕어빵 중 하나를 선택해주세요) 또는 '돌아가기' 입력: \")\n",
    "            if bread_type == \"돌아가기\": # bread_type에는 초코붕어빵\n",
    "                break\n",
    "            if bread_type not in stock:\n",
    "                print(\"잘못된 입력입니다. 다시 입력해주세요.\")\n",
    "                continue\n",
    "\n",
    "            bread_count = int(input(\"주문할 붕어빵 개수를 입력해주세요: \")) #str \"3\", '3' int() 함수 => 특정 기능이 작동되도록 모아놓은 코드다 => 자료형을 숫자로 형태의 자료로 만드는 기능의 함수\n",
    "            if stock[bread_type] >= bread_count:\n",
    "                stock[bread_type] -= bread_count #stock[\"초코붕어빵\"] = 5-3\n",
    "                revenue = bread_count * price[bread_type]\n",
    "                total_revenue += revenue\n",
    "                sales[bread_type] += revenue\n",
    "\n",
    "                # 판매된 품목 기록\n",
    "                if bread_type in sold_items:\n",
    "                    sold_items[bread_type] += bread_count\n",
    "                else:\n",
    "                    sold_items[bread_type] = bread_count\n",
    "\n",
    "                print(f\"{bread_type} {bread_count}개를 판매했습니다.\")\n",
    "            else:\n",
    "                print(\"현재 주문한 붕어빵의 개수보다 재고가 부족합니다.\")\n",
    "\n",
    "    elif mode == \"관리자\":\n",
    "        while True:\n",
    "            bread_type = input(\"추가할 붕어빵 종류를 입력해주세요 (팥붕어빵, 슈크림붕어빵, 초코붕어빵 중 하나를 선택해주세요) 또는 '돌아가기' 입력: \")\n",
    "            if bread_type == \"돌아가기\": # bread_type에는 초코붕어빵\n",
    "                break\n",
    "            if bread_type not in stock:\n",
    "                print(\"잘못된 입력입니다. 다시 입력해주세요.\")\n",
    "                continue\n",
    "\n",
    "            bread_count = int(input(\"추가할 붕어빵 개수를 입력하세요: \"))\n",
    "            stock[bread_type] += bread_count # stock[bread_type] 5 + bread_count 10 => 15 => stock[\"초코붕어빵\"] = 15 덮어씌우기\n",
    "            print(f\"{bread_type}의 재고가 {bread_count}개 추가되었습니다.\")\n",
    "\n",
    "# 판매 결과 출력\n",
    "print(\"판매된 붕어빵 목록:\")\n",
    "for item, count in sold_items.items():\n",
    "    print(f\"{item}: {count}개\")\n",
    "\n",
    "# 총 매출 출력\n",
    "print(f\"총 매출: {total_revenue}원\")\n",
    "print(\"프로그램이 종료되었습니다.\")\n"
   ]
  }
 ],
 "metadata": {
  "kernelspec": {
   "display_name": "Python 3",
   "language": "python",
   "name": "python3"
  },
  "language_info": {
   "codemirror_mode": {
    "name": "ipython",
    "version": 3
   },
   "file_extension": ".py",
   "mimetype": "text/x-python",
   "name": "python",
   "nbconvert_exporter": "python",
   "pygments_lexer": "ipython3",
   "version": "3.9.6"
  }
 },
 "nbformat": 4,
 "nbformat_minor": 2
}
