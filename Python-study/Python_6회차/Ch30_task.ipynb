{
 "cells": [
  {
   "cell_type": "markdown",
   "metadata": {},
   "source": [
    "팩토리얼을 계산하는 재귀 함수 factorial을 작성하세요."
   ]
  },
  {
   "cell_type": "code",
   "execution_count": 3,
   "metadata": {},
   "outputs": [
    {
     "name": "stdout",
     "output_type": "stream",
     "text": [
      "1!: 1\n",
      "2!: 2\n",
      "3!: 6\n",
      "4!: 24\n",
      "5!: 120\n"
     ]
    }
   ],
   "source": [
    "# 함수를 선언한다.\n",
    "def factorial(n):\n",
    "\n",
    "    # n이 0이라면 1을 리턴\n",
    "    if n == 0:\n",
    "        return 1\n",
    "\n",
    "    # n이 0이 아니라면 n * (n-1)!을 리턴\n",
    "    else:\n",
    "        return n * factorial(n - 1)\n",
    "\n",
    "# 함수를 호출합니다.\n",
    "print(\"1!:\", factorial(1))\n",
    "print(\"2!:\", factorial(2))\n",
    "print(\"3!:\", factorial(3))\n",
    "print(\"4!:\", factorial(4))\n",
    "print(\"5!:\", factorial(5))"
   ]
  }
 ],
 "metadata": {
  "kernelspec": {
   "display_name": "Python 3",
   "language": "python",
   "name": "python3"
  },
  "language_info": {
   "codemirror_mode": {
    "name": "ipython",
    "version": 3
   },
   "file_extension": ".py",
   "mimetype": "text/x-python",
   "name": "python",
   "nbconvert_exporter": "python",
   "pygments_lexer": "ipython3",
   "version": "3.9.6"
  }
 },
 "nbformat": 4,
 "nbformat_minor": 2
}
