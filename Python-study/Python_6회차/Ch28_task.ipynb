{
 "cells": [
  {
   "cell_type": "markdown",
   "metadata": {},
   "source": [
    "사용자로부터 3개의 숫자를 입력받아, 이를 튜플로 만든 후 최소값과 최대값을 출력하는 함수 min_max를 작성하세요."
   ]
  },
  {
   "cell_type": "code",
   "execution_count": 1,
   "metadata": {},
   "outputs": [
    {
     "name": "stdout",
     "output_type": "stream",
     "text": [
      "최소값: 2.0\n",
      "최대값: 4.0\n"
     ]
    }
   ],
   "source": [
    "def min_max():\n",
    "    nums = []\n",
    "    for _ in range(3):\n",
    "        num = float(input(\"숫자를 입력하세요: \"))\n",
    "        nums.append(num)\n",
    "    \n",
    "    nums_tuple = tuple(nums)\n",
    "    \n",
    "    print(\"최소값:\", min(nums_tuple))\n",
    "    print(\"최대값:\", max(nums_tuple))\n",
    "\n",
    "min_max()"
   ]
  }
 ],
 "metadata": {
  "kernelspec": {
   "display_name": "Python 3",
   "language": "python",
   "name": "python3"
  },
  "language_info": {
   "codemirror_mode": {
    "name": "ipython",
    "version": 3
   },
   "file_extension": ".py",
   "mimetype": "text/x-python",
   "name": "python",
   "nbconvert_exporter": "python",
   "pygments_lexer": "ipython3",
   "version": "3.9.6"
  }
 },
 "nbformat": 4,
 "nbformat_minor": 2
}
