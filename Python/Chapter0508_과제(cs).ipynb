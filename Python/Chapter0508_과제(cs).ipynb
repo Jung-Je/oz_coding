{
 "cells": [
  {
   "cell_type": "markdown",
   "metadata": {
    "id": "WXEwMsfUct7U"
   },
   "source": [
    "컴퓨터 기초 지식을 의미하는 CS(Computer science)는<br>\n",
    "코딩 테스트와 함께 기술 면접에서 지원자에게 필수적으로 요구합니다.<br>\n",
    "\n",
    "수업 내용 중 기술 면접에 자주 나오는 질문 3가지와 기본적으로 알아야 할 내용 과제로 선정했습니다.<br>\n",
    "\n",
    "관련 내용에 대해서는 구글링 또는 관련 서적을 통해 상세히 공부하시고<br>\n",
    "답변은 최대한 핵심만 담아 간결하게 작성해주세요<br>\n",
    "\n",
    "기술 블로그를 운영 중이신 경우<br>\n",
    "답변 내용을 기술 블로그에 작성하신 후 링크를 답변에 남겨주셔도 됩니다.<br>"
   ]
  },
  {
   "cell_type": "markdown",
   "metadata": {
    "id": "qoyC9wF-3hvs"
   },
   "source": [
    "-----"
   ]
  },
  {
   "cell_type": "markdown",
   "metadata": {
    "id": "rAD_O3Gmc_43"
   },
   "source": [
    "[문제1]\n",
    "\n",
    "Python의 변수 할당 개념을 다른 언어와 비교해 설명해주세요\n"
   ]
  },
  {
   "cell_type": "markdown",
   "metadata": {},
   "source": "파이썬은 유연하고 편리한 문법을 제공하지만, C 언어는 더 직접적이고 저수준의 메모리 조작을 할 수 있다. C 언어는 정직하게 절차를 밟아가며 부지런하게 직접 일을 수행하는 반면 파이썬은 편리하게 많은 일을 자동으로 처리해서 (주관적인) 효율중시파 일잘러 프로그램으로 볼 수 있다."
  },
  {
   "cell_type": "markdown",
   "metadata": {},
   "source": [
    "---"
   ]
  },
  {
   "cell_type": "markdown",
   "metadata": {
    "id": "3uK_auXYdgk2"
   },
   "source": [
    "[문제2]\n",
    "\n",
    "Python의 실수형(float) 계산 시 오차가 발생하는 이유에 대해 간단히 설명해 주세요"
   ]
  },
  {
   "cell_type": "code",
   "execution_count": null,
   "metadata": {
    "id": "9kvBxa6PdhgA"
   },
   "outputs": [],
   "source": [
    "파이썬의 실수형(float)에서 발생하는 오차는 부동 소수점 방식의 특성으로 인해 발생한다. 컴퓨터에서 소수를 표현하는 방식은 이진 부동 소수점 표현법을 사용하는데, 이 방식은 정확한 십진 표현이 아니라 근사 값을 사용한다.\n",
    "\n",
    "이진 부동 소수점 표현 방식, 유한한 비트 수, 소수의 이진 표현의 한계, 연산 순서에 따른 미세한 차이 등 원인 때문이다.\n",
    "\n",
    "한 마디로, 컴퓨터가 사용하는 언어는 2진수라서 10진수가 수를 표현하는 방식과 다르다 보니 미세한 오차가 발생한다는 거다. 예로, 1/3을 소수로 표현하는 게 귀찮아서 0.3333... 으로 표현하는 것처럼, 컴퓨터도 특정한 소수를 정확히 표현하지 못할 때가 있다.\n",
    "\n",
    "위 이유로 부동 소수점 연산에서는 정확한 값을 기대하기 어렵다. 따라서 실수형을 비교할 때는 어느 정도의 오차를 허용하는 방법을 사용하거나, Decimal 등과 같은 정확한 십진 연산을 지원하는 데이터 타입을 사용하는 것이 좋다.\n",
    "\n"
   ]
  },
  {
   "cell_type": "markdown",
   "metadata": {},
   "source": [
    "----"
   ]
  },
  {
   "cell_type": "markdown",
   "metadata": {
    "id": "2Jte2VLKdiPm"
   },
   "source": [
    "[문제3]\n",
    "\n",
    "슬라이싱에 대해 간단히 설명해주세요"
   ]
  },
  {
   "cell_type": "code",
   "execution_count": null,
   "metadata": {
    "id": "XJhvRO-2djBh"
   },
   "outputs": [],
   "source": [
    "파이썬에는 문자열, 리스트에서 원하는 값을 추출할 때 인덱싱(Indexing)과 슬라이싱(Slicing)을 활용한다.\n",
    "\n",
    "인덱싱은 몇 번째인지 값을 아예 특정하는 반면, 슬라이싱은 시작점과 직전 기준을 지정해서 [어디부터:어디 '전'까지]를 슬라이스하는(잘라주는) 개념이다. 인덱싱이 출석번호를 하나만 부르는 거라면, 슬라이싱은 오늘 주번 몇 번부터 몇 번까지로 범위를 지정한다.\n",
    "\n",
    "파이썬에서 순서는 1이 아닌 0부터 시작하는데(영국, 독일처럼 1층이 G층인 거라고 생각하자), \"python is my life\" 단어를 기준으로 순서를 매겨보자면 아래와 같다.\n",
    "\n",
    "p y t h o n _ i s _ m   y  _  l i f e\n",
    "0 1 2 3 4 5 6 7 8 9 10 11 12 13 14 15\n",
    "*점(.) 같은 부호나 공백도 개수에 포함한다. \n",
    "p가 첫 번째이므로 0번이고, 그 다음부터 순서대로 매긴다.\n",
    "x = \"python is my life\" 문장에서 python만 출력하고 싶을 때, 아래처럼 코드를 작성하면 된다.\n",
    "\n",
    "x = \"python is my life\" \n",
    "print(x[0:6])\n",
    ">>> python"
   ]
  }
 ],
 "metadata": {
  "colab": {
   "authorship_tag": "ABX9TyP7YKA5FdtGggYfD74V7SMJ",
   "provenance": []
  },
  "kernelspec": {
   "display_name": "Python 3",
   "name": "python3"
  },
  "language_info": {
   "name": "python"
  }
 },
 "nbformat": 4,
 "nbformat_minor": 0
}
